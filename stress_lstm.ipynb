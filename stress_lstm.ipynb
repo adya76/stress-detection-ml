{
  "nbformat": 4,
  "nbformat_minor": 0,
  "metadata": {
    "colab": {
      "provenance": []
    },
    "kernelspec": {
      "name": "python3",
      "display_name": "Python 3"
    },
    "language_info": {
      "name": "python"
    }
  },
  "cells": [
    {
      "cell_type": "code",
      "execution_count": null,
      "metadata": {
        "id": "wf1r3L0yG71e"
      },
      "outputs": [],
      "source": [
        "import pandas as pd\n",
        "import numpy as np\n",
        "import re\n",
        "import tensorflow as tf\n",
        "from tensorflow.keras.preprocessing.text import Tokenizer\n",
        "from tensorflow.keras.preprocessing.sequence import pad_sequences\n",
        "from tensorflow.keras.models import Sequential\n",
        "from tensorflow.keras.layers import Embedding, LSTM, Dense, Dropout\n",
        "from sklearn.model_selection import train_test_split\n",
        "from sklearn.preprocessing import LabelEncoder"
      ]
    },
    {
      "cell_type": "code",
      "source": [
        "file_path = \"/content/Stress.csv\"\n",
        "df = pd.read_csv(file_path)"
      ],
      "metadata": {
        "id": "tiHvLuQRHM1Y"
      },
      "execution_count": null,
      "outputs": []
    },
    {
      "cell_type": "code",
      "source": [
        "def clean_text(text):\n",
        "    text = text.lower()  # converting to lowercase\n",
        "    text = re.sub(r'\\W', ' ', text)  # remove special characters\n",
        "    text = re.sub(r'\\s+', ' ', text).strip()  # remove extra spaces\n",
        "    return text"
      ],
      "metadata": {
        "id": "fPhpd6fBPjYv"
      },
      "execution_count": null,
      "outputs": []
    },
    {
      "cell_type": "code",
      "source": [
        "# text preprocessing\n",
        "df['clean_text'] = df['text'].astype(str).apply(clean_text)"
      ],
      "metadata": {
        "id": "LFDjatDDPlKi"
      },
      "execution_count": null,
      "outputs": []
    },
    {
      "cell_type": "code",
      "source": [
        "label_encoder = LabelEncoder()\n",
        "df['label'] = label_encoder.fit_transform(df['label'])"
      ],
      "metadata": {
        "id": "MMCV_m5fPxiu"
      },
      "execution_count": null,
      "outputs": []
    },
    {
      "cell_type": "code",
      "source": [
        "X_train, X_test, y_train, y_test = train_test_split(df['clean_text'], df['label'], test_size=0.2, random_state=42)"
      ],
      "metadata": {
        "id": "mD-F42IVP5Rg"
      },
      "execution_count": null,
      "outputs": []
    },
    {
      "cell_type": "code",
      "source": [
        "tokenizer = Tokenizer(num_words=5000)  # uses the top 5000 words\n",
        "tokenizer.fit_on_texts(X_train)"
      ],
      "metadata": {
        "id": "2nGASorhP7wG"
      },
      "execution_count": null,
      "outputs": []
    },
    {
      "cell_type": "code",
      "source": [
        "X_train_seq = tokenizer.texts_to_sequences(X_train)\n",
        "X_test_seq = tokenizer.texts_to_sequences(X_test)"
      ],
      "metadata": {
        "id": "bAEQ-hQsP-Jx"
      },
      "execution_count": null,
      "outputs": []
    },
    {
      "cell_type": "code",
      "source": [
        "max_len = max(len(seq) for seq in X_train_seq)  # find max length\n",
        "X_train_pad = pad_sequences(X_train_seq, maxlen=max_len, padding='post')\n",
        "X_test_pad = pad_sequences(X_test_seq, maxlen=max_len, padding='post')"
      ],
      "metadata": {
        "id": "mo_79dcZQCf5"
      },
      "execution_count": null,
      "outputs": []
    },
    {
      "cell_type": "code",
      "source": [
        "model = Sequential([\n",
        "    Embedding(input_dim=5000, output_dim=128, input_length=max_len),  # embedding layer\n",
        "    LSTM(128, return_sequences=True),  # LSTM layer\n",
        "    Dropout(0.3),\n",
        "    LSTM(64),  # another LSTM layer\n",
        "    Dense(32, activation='relu'),\n",
        "    Dropout(0.3),\n",
        "    Dense(1, activation='sigmoid')  # output layer (binary)\n",
        "])"
      ],
      "metadata": {
        "id": "8oKRSPiyQFFA",
        "colab": {
          "base_uri": "https://localhost:8080/"
        },
        "outputId": "7d51006e-a6a2-49df-d965-bd6fccadb496"
      },
      "execution_count": null,
      "outputs": [
        {
          "output_type": "stream",
          "name": "stderr",
          "text": [
            "/usr/local/lib/python3.11/dist-packages/keras/src/layers/core/embedding.py:90: UserWarning: Argument `input_length` is deprecated. Just remove it.\n",
            "  warnings.warn(\n"
          ]
        }
      ]
    },
    {
      "cell_type": "code",
      "source": [
        "model.compile(loss='binary_crossentropy', optimizer='adam', metrics=['accuracy'])"
      ],
      "metadata": {
        "id": "49uDCcFRQJkx"
      },
      "execution_count": null,
      "outputs": []
    },
    {
      "cell_type": "code",
      "source": [
        "model.fit(X_train_pad, y_train, epochs=5, batch_size=32, validation_data=(X_test_pad, y_test))"
      ],
      "metadata": {
        "id": "l_DWua3GuGYi",
        "colab": {
          "base_uri": "https://localhost:8080/"
        },
        "outputId": "3ba9f889-344f-4877-fc67-f6309078463f"
      },
      "execution_count": null,
      "outputs": [
        {
          "output_type": "stream",
          "name": "stdout",
          "text": [
            "Epoch 1/5\n",
            "\u001b[1m71/71\u001b[0m \u001b[32m━━━━━━━━━━━━━━━━━━━━\u001b[0m\u001b[37m\u001b[0m \u001b[1m66s\u001b[0m 844ms/step - accuracy: 0.5220 - loss: 0.6922 - val_accuracy: 0.5370 - val_loss: 0.6913\n",
            "Epoch 2/5\n",
            "\u001b[1m71/71\u001b[0m \u001b[32m━━━━━━━━━━━━━━━━━━━━\u001b[0m\u001b[37m\u001b[0m \u001b[1m74s\u001b[0m 733ms/step - accuracy: 0.5201 - loss: 0.6932 - val_accuracy: 0.5370 - val_loss: 0.6926\n",
            "Epoch 3/5\n",
            "\u001b[1m71/71\u001b[0m \u001b[32m━━━━━━━━━━━━━━━━━━━━\u001b[0m\u001b[37m\u001b[0m \u001b[1m83s\u001b[0m 751ms/step - accuracy: 0.5171 - loss: 0.6929 - val_accuracy: 0.5370 - val_loss: 0.6908\n",
            "Epoch 4/5\n",
            "\u001b[1m71/71\u001b[0m \u001b[32m━━━━━━━━━━━━━━━━━━━━\u001b[0m\u001b[37m\u001b[0m \u001b[1m80s\u001b[0m 728ms/step - accuracy: 0.5306 - loss: 0.6918 - val_accuracy: 0.5370 - val_loss: 0.6908\n",
            "Epoch 5/5\n",
            "\u001b[1m71/71\u001b[0m \u001b[32m━━━━━━━━━━━━━━━━━━━━\u001b[0m\u001b[37m\u001b[0m \u001b[1m54s\u001b[0m 759ms/step - accuracy: 0.5231 - loss: 0.6929 - val_accuracy: 0.5370 - val_loss: 0.6914\n"
          ]
        },
        {
          "output_type": "execute_result",
          "data": {
            "text/plain": [
              "<keras.src.callbacks.history.History at 0x7d0230287a90>"
            ]
          },
          "metadata": {},
          "execution_count": 12
        }
      ]
    },
    {
      "cell_type": "code",
      "source": [
        "loss, accuracy = model.evaluate(X_test_pad, y_test)\n",
        "print(f\"Test Accuracy: {accuracy:.2f}\")"
      ],
      "metadata": {
        "id": "T6ThUedbqTyA",
        "colab": {
          "base_uri": "https://localhost:8080/"
        },
        "outputId": "1371bfff-bdf3-428d-98b4-ef7c087373dd"
      },
      "execution_count": null,
      "outputs": [
        {
          "output_type": "stream",
          "name": "stdout",
          "text": [
            "\u001b[1m18/18\u001b[0m \u001b[32m━━━━━━━━━━━━━━━━━━━━\u001b[0m\u001b[37m\u001b[0m \u001b[1m3s\u001b[0m 174ms/step - accuracy: 0.5440 - loss: 0.6910\n",
            "Test Accuracy: 0.54\n"
          ]
        }
      ]
    },
    {
      "cell_type": "code",
      "source": [
        "def predict_stress(sentence):\n",
        "    sentence = clean_text(sentence)\n",
        "    sequence = tokenizer.texts_to_sequences([sentence])\n",
        "    padded_seq = pad_sequences(sequence, maxlen=max_len, padding='post')\n",
        "    prediction = model.predict(padded_seq)[0][0]\n",
        "    return \"Stressful\" if prediction > 0.5 else \"Not Stressful\""
      ],
      "metadata": {
        "id": "8wLHPb39rLPT"
      },
      "execution_count": null,
      "outputs": []
    },
    {
      "cell_type": "code",
      "source": [
        "new_sentence = \"I can’t sleep at night and my mind feels constantly overwhelmed.\"\n",
        "print(f\"Prediction: {predict_stress(new_sentence)}\")"
      ],
      "metadata": {
        "id": "2GJA4wkMrQDo",
        "colab": {
          "base_uri": "https://localhost:8080/"
        },
        "outputId": "cc92c605-3cbe-4a6f-df9d-59eb2cb0426f"
      },
      "execution_count": null,
      "outputs": [
        {
          "output_type": "stream",
          "name": "stdout",
          "text": [
            "\u001b[1m1/1\u001b[0m \u001b[32m━━━━━━━━━━━━━━━━━━━━\u001b[0m\u001b[37m\u001b[0m \u001b[1m0s\u001b[0m 394ms/step\n",
            "Prediction: Stressful\n"
          ]
        }
      ]
    },
    {
      "cell_type": "code",
      "source": [],
      "metadata": {
        "id": "6_9vJbd5dktT"
      },
      "execution_count": null,
      "outputs": []
    }
  ]
}